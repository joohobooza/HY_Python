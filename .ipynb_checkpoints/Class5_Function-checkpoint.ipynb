{
 "cells": [
  {
   "cell_type": "markdown",
   "metadata": {},
   "source": [
    "# 함수"
   ]
  },
  {
   "cell_type": "code",
   "execution_count": 18,
   "metadata": {},
   "outputs": [
    {
     "name": "stdout",
     "output_type": "stream",
     "text": [
      "314.1592653589793\n"
     ]
    }
   ],
   "source": [
    "# 원의 넓이를 구해보자\n",
    "import math # math.pi는 10자리 이상의 파이 값을 불러온다\n",
    "반지름 = 10\n",
    "넓이 = math.pi * 반지름**2\n",
    "print(넓이)"
   ]
  },
  {
   "cell_type": "code",
   "execution_count": 19,
   "metadata": {},
   "outputs": [
    {
     "name": "stdout",
     "output_type": "stream",
     "text": [
      "78.53981633974483\n"
     ]
    }
   ],
   "source": [
    "# 다른 반지름에 대해 계산하려면\n",
    "반지름 = 5\n",
    "넓이 = math.pi * 반지름**2\n",
    "print(넓이)\n",
    "# 또 다른 반지름에 대해 계산은 \n",
    "# ..."
   ]
  },
  {
   "cell_type": "code",
   "execution_count": 25,
   "metadata": {},
   "outputs": [],
   "source": [
    "# 함수로 만들면\n",
    "\n",
    "def 원의넓이(반지름):\n",
    "    area = math.pi * 반지름 **2\n",
    "    print('원의 넓이는', area)"
   ]
  },
  {
   "cell_type": "code",
   "execution_count": 21,
   "metadata": {},
   "outputs": [
    {
     "name": "stdout",
     "output_type": "stream",
     "text": [
      "원의 넓이는 314.1592653589793\n"
     ]
    }
   ],
   "source": [
    "원의넓이(10)"
   ]
  },
  {
   "cell_type": "code",
   "execution_count": 36,
   "metadata": {},
   "outputs": [],
   "source": [
    "# 직사각형의 넓이는\n",
    "\n",
    "def 직사각형넓이(가로, 세로):\n",
    "    area = 가로*세로\n",
    "    print('직사각형의 넓이는',area)"
   ]
  },
  {
   "cell_type": "code",
   "execution_count": 37,
   "metadata": {},
   "outputs": [
    {
     "name": "stdout",
     "output_type": "stream",
     "text": [
      "직사각형의 넓이는 6\n"
     ]
    }
   ],
   "source": [
    "직사각형넓이(2,3)"
   ]
  },
  {
   "cell_type": "code",
   "execution_count": 32,
   "metadata": {},
   "outputs": [],
   "source": [
    "# 입력이 필요없는 경우도 있음\n",
    "def 인사말():\n",
    "    print('vip 고객님 환영합니다~!')"
   ]
  },
  {
   "cell_type": "code",
   "execution_count": 33,
   "metadata": {},
   "outputs": [
    {
     "name": "stdout",
     "output_type": "stream",
     "text": [
      "vip 고객님 환영합니다~!\n"
     ]
    }
   ],
   "source": [
    "인사말()"
   ]
  },
  {
   "cell_type": "code",
   "execution_count": 39,
   "metadata": {},
   "outputs": [
    {
     "name": "stdout",
     "output_type": "stream",
     "text": [
      "원의 넓이는 78.53981633974483\n",
      "직사각형의 넓이는 12\n",
      "넓이의 합계는 90.53981633974483\n"
     ]
    }
   ],
   "source": [
    "# 원의 넓이와 직사각형 넓이를 더하고 싶다면..\n",
    "\n",
    "def 원의넓이2(반지름):\n",
    "    area = math.pi * 반지름 **2\n",
    "    print('원의 넓이는', area)\n",
    "    return area\n",
    "\n",
    "def 직사각형넓이2(가로, 세로):\n",
    "    area = 가로*세로\n",
    "    print('직사각형의 넓이는',area)\n",
    "    return area\n",
    "\n",
    "총넓이 = 원의넓이2(5) + 직사각형넓이2(3,4)\n",
    "print('넓이의 합계는',총넓이)\n",
    "    "
   ]
  },
  {
   "cell_type": "code",
   "execution_count": 44,
   "metadata": {},
   "outputs": [],
   "source": [
    "??print"
   ]
  },
  {
   "cell_type": "code",
   "execution_count": 45,
   "metadata": {},
   "outputs": [],
   "source": [
    "??round"
   ]
  },
  {
   "cell_type": "markdown",
   "metadata": {},
   "source": [
    "# Scoping Rule"
   ]
  },
  {
   "cell_type": "code",
   "execution_count": 46,
   "metadata": {},
   "outputs": [],
   "source": [
    "parameter = 1.24\n",
    "\n",
    "def multiple(number):\n",
    "    parameter = 2\n",
    "    return number * parameter"
   ]
  },
  {
   "cell_type": "code",
   "execution_count": 47,
   "metadata": {},
   "outputs": [
    {
     "data": {
      "text/plain": [
       "4"
      ]
     },
     "execution_count": 47,
     "metadata": {},
     "output_type": "execute_result"
    }
   ],
   "source": [
    "multiple(2)"
   ]
  },
  {
   "cell_type": "markdown",
   "metadata": {},
   "source": [
    "# 예제: 학생 정보 입력"
   ]
  },
  {
   "cell_type": "code",
   "execution_count": 50,
   "metadata": {},
   "outputs": [],
   "source": [
    "studentDB = []\n",
    "\n",
    "def 학생추가(이름, 학년, 전공):\n",
    "    학생 = [이름, 학년, 전공]\n",
    "    studentDB.append(학생)\n",
    "\n",
    "학생추가('이말년','2', '미술')\n",
    "학생추가('기안', '84', '웹툰') \n",
    "    \n",
    "    "
   ]
  },
  {
   "cell_type": "code",
   "execution_count": 51,
   "metadata": {},
   "outputs": [
    {
     "data": {
      "text/plain": [
       "[['이말년', '2', '미술'], ['기안', '84', '웹툰']]"
      ]
     },
     "execution_count": 51,
     "metadata": {},
     "output_type": "execute_result"
    }
   ],
   "source": [
    "studentDB"
   ]
  },
  {
   "cell_type": "markdown",
   "metadata": {},
   "source": [
    "# 예제: 합계 구하기"
   ]
  },
  {
   "cell_type": "code",
   "execution_count": 56,
   "metadata": {},
   "outputs": [
    {
     "data": {
      "text/plain": [
       "9"
      ]
     },
     "execution_count": 56,
     "metadata": {},
     "output_type": "execute_result"
    }
   ],
   "source": [
    "# 1~100까지 합계 구했던 것을 입력한 값 사이의 합을 구하는 프로그램으로 바꿔본다. \n",
    "\n",
    "def sum(start, end):\n",
    "    total = 0\n",
    "    for i in range(start, end+1):\n",
    "        total = total + i\n",
    "    return total\n",
    "\n",
    "sum(2, 4)"
   ]
  }
 ],
 "metadata": {
  "kernelspec": {
   "display_name": "Python 3",
   "language": "python",
   "name": "python3"
  },
  "language_info": {
   "codemirror_mode": {
    "name": "ipython",
    "version": 3
   },
   "file_extension": ".py",
   "mimetype": "text/x-python",
   "name": "python",
   "nbconvert_exporter": "python",
   "pygments_lexer": "ipython3",
   "version": "3.6.4"
  }
 },
 "nbformat": 4,
 "nbformat_minor": 2
}

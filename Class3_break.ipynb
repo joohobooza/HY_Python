{
 "cells": [
  {
   "cell_type": "markdown",
   "metadata": {},
   "source": [
    "# break"
   ]
  },
  {
   "cell_type": "code",
   "execution_count": 8,
   "metadata": {},
   "outputs": [
    {
     "name": "stdout",
     "output_type": "stream",
     "text": [
      "숫자는? (1~100 사이임) :1\n",
      "더 큰 숫자임\n",
      "숫자는? (1~100 사이임) :2\n",
      "더 큰 숫자임\n",
      "숫자는? (1~100 사이임) :3\n",
      "더 큰 숫자임\n",
      "숫자는? (1~100 사이임) :4\n",
      "더 큰 숫자임\n",
      "숫자는? (1~100 사이임) :5\n",
      "더 큰 숫자임\n",
      "숫자는? (1~100 사이임) :6\n",
      "더 큰 숫자임\n",
      "숫자는? (1~100 사이임) :7\n",
      "더 큰 숫자임\n",
      "숫자는? (1~100 사이임) :8\n",
      "더 큰 숫자임\n",
      "숫자는? (1~100 사이임) :9\n",
      "더 큰 숫자임\n",
      "숫자는? (1~100 사이임) :10\n",
      "더 큰 숫자임\n"
     ]
    }
   ],
   "source": [
    "# 숫자 맞추기를 10번까지 해도 못 맞추면 빠져나온다.\n",
    "\n",
    "# 1~100 사이의 숫자를 난수로 생성한다. \n",
    "import random\n",
    "number = random.randint(1,100)\n",
    "\n",
    "count = 1\n",
    "guess = 0\n",
    "while number != guess:\n",
    "    # 숫자를 추측해본다.\n",
    "    guess = int(input('숫자는? (1~100 사이임) :'))\n",
    "    if guess<number: print('더 큰 숫자임')\n",
    "    if guess>number: print('더 작은 숫자임')\n",
    "    if guess==number: print('맞췄음')\n",
    "    if count >= 10: break\n",
    "    count +=1 # count = count + 1 과 같음"
   ]
  },
  {
   "cell_type": "markdown",
   "metadata": {},
   "source": [
    "# short form"
   ]
  },
  {
   "cell_type": "code",
   "execution_count": 15,
   "metadata": {},
   "outputs": [],
   "source": [
    "count = 10"
   ]
  },
  {
   "cell_type": "code",
   "execution_count": 16,
   "metadata": {},
   "outputs": [
    {
     "name": "stdout",
     "output_type": "stream",
     "text": [
      "13\n"
     ]
    }
   ],
   "source": [
    "count += 3\n",
    "print(count)"
   ]
  },
  {
   "cell_type": "code",
   "execution_count": 17,
   "metadata": {},
   "outputs": [
    {
     "name": "stdout",
     "output_type": "stream",
     "text": [
      "11\n"
     ]
    }
   ],
   "source": [
    "count -= 2\n",
    "print(count)"
   ]
  },
  {
   "cell_type": "code",
   "execution_count": 18,
   "metadata": {},
   "outputs": [
    {
     "name": "stdout",
     "output_type": "stream",
     "text": [
      "110\n"
     ]
    }
   ],
   "source": [
    "count *=10\n",
    "print(count)"
   ]
  },
  {
   "cell_type": "code",
   "execution_count": 19,
   "metadata": {},
   "outputs": [
    {
     "name": "stdout",
     "output_type": "stream",
     "text": [
      "10.0\n"
     ]
    }
   ],
   "source": [
    "count /=11\n",
    "print(count)"
   ]
  },
  {
   "cell_type": "markdown",
   "metadata": {},
   "source": [
    "# Logical Operator"
   ]
  },
  {
   "cell_type": "code",
   "execution_count": 24,
   "metadata": {},
   "outputs": [
    {
     "data": {
      "text/plain": [
       "True"
      ]
     },
     "execution_count": 24,
     "metadata": {},
     "output_type": "execute_result"
    }
   ],
   "source": [
    "5 > 3 and 4 > 2"
   ]
  },
  {
   "cell_type": "code",
   "execution_count": 25,
   "metadata": {},
   "outputs": [
    {
     "data": {
      "text/plain": [
       "True"
      ]
     },
     "execution_count": 25,
     "metadata": {},
     "output_type": "execute_result"
    }
   ],
   "source": [
    "True and True"
   ]
  },
  {
   "cell_type": "code",
   "execution_count": 26,
   "metadata": {},
   "outputs": [
    {
     "data": {
      "text/plain": [
       "False"
      ]
     },
     "execution_count": 26,
     "metadata": {},
     "output_type": "execute_result"
    }
   ],
   "source": [
    "not True"
   ]
  },
  {
   "cell_type": "code",
   "execution_count": 27,
   "metadata": {},
   "outputs": [
    {
     "data": {
      "text/plain": [
       "False"
      ]
     },
     "execution_count": 27,
     "metadata": {},
     "output_type": "execute_result"
    }
   ],
   "source": [
    "not 5>3"
   ]
  },
  {
   "cell_type": "code",
   "execution_count": 28,
   "metadata": {},
   "outputs": [
    {
     "data": {
      "text/plain": [
       "True"
      ]
     },
     "execution_count": 28,
     "metadata": {},
     "output_type": "execute_result"
    }
   ],
   "source": [
    "True or False"
   ]
  },
  {
   "cell_type": "code",
   "execution_count": 29,
   "metadata": {},
   "outputs": [
    {
     "data": {
      "text/plain": [
       "False"
      ]
     },
     "execution_count": 29,
     "metadata": {},
     "output_type": "execute_result"
    }
   ],
   "source": [
    "True and False"
   ]
  },
  {
   "cell_type": "code",
   "execution_count": 30,
   "metadata": {},
   "outputs": [
    {
     "data": {
      "text/plain": [
       "True"
      ]
     },
     "execution_count": 30,
     "metadata": {},
     "output_type": "execute_result"
    }
   ],
   "source": [
    "not (True and False or False)"
   ]
  },
  {
   "cell_type": "markdown",
   "metadata": {},
   "source": [
    "# for loop"
   ]
  },
  {
   "cell_type": "code",
   "execution_count": 31,
   "metadata": {},
   "outputs": [
    {
     "name": "stdout",
     "output_type": "stream",
     "text": [
      "김\n",
      "신\n",
      "이\n",
      "가\n"
     ]
    }
   ],
   "source": [
    "for name in ['김','신', '이', '가']:\n",
    "    print(name)"
   ]
  },
  {
   "cell_type": "code",
   "execution_count": 32,
   "metadata": {},
   "outputs": [
    {
     "name": "stdout",
     "output_type": "stream",
     "text": [
      "1\n",
      "2\n",
      "3\n",
      "5\n",
      "6\n"
     ]
    }
   ],
   "source": [
    "for i in [1,2,3,5,6]:\n",
    "    print(i)"
   ]
  },
  {
   "cell_type": "code",
   "execution_count": 37,
   "metadata": {},
   "outputs": [
    {
     "name": "stdout",
     "output_type": "stream",
     "text": [
      "0\n",
      "1\n",
      "2\n",
      "3\n",
      "4\n"
     ]
    }
   ],
   "source": [
    "for i in range(5):\n",
    "    print(i)"
   ]
  },
  {
   "cell_type": "code",
   "execution_count": 38,
   "metadata": {},
   "outputs": [
    {
     "name": "stdout",
     "output_type": "stream",
     "text": [
      "1\n",
      "2\n",
      "3\n",
      "4\n"
     ]
    }
   ],
   "source": [
    "for i in range(1,5):\n",
    "    print(i)"
   ]
  },
  {
   "cell_type": "code",
   "execution_count": 39,
   "metadata": {},
   "outputs": [
    {
     "name": "stdout",
     "output_type": "stream",
     "text": [
      "1\n",
      "3\n"
     ]
    }
   ],
   "source": [
    "for i in range(1,5,2):\n",
    "    print(i)"
   ]
  },
  {
   "cell_type": "code",
   "execution_count": 42,
   "metadata": {},
   "outputs": [
    {
     "name": "stdout",
     "output_type": "stream",
     "text": [
      "5\n",
      "4\n",
      "3\n",
      "2\n"
     ]
    }
   ],
   "source": [
    "for i in range(5,1, -1):\n",
    "    print(i)"
   ]
  },
  {
   "cell_type": "markdown",
   "metadata": {},
   "source": [
    "# 예제: 구구단 출력"
   ]
  },
  {
   "cell_type": "code",
   "execution_count": 46,
   "metadata": {},
   "outputs": [
    {
     "name": "stdout",
     "output_type": "stream",
     "text": [
      "\n",
      "2 단\n",
      "2 * 2\n",
      "2 * 3\n",
      "2 * 4\n",
      "2 * 5\n",
      "2 * 6\n",
      "2 * 7\n",
      "2 * 8\n",
      "2 * 9\n",
      "\n",
      "3 단\n",
      "3 * 2\n",
      "3 * 3\n",
      "3 * 4\n",
      "3 * 5\n",
      "3 * 6\n",
      "3 * 7\n",
      "3 * 8\n",
      "3 * 9\n",
      "\n",
      "4 단\n",
      "4 * 2\n",
      "4 * 3\n",
      "4 * 4\n",
      "4 * 5\n",
      "4 * 6\n",
      "4 * 7\n",
      "4 * 8\n",
      "4 * 9\n",
      "\n",
      "5 단\n",
      "5 * 2\n",
      "5 * 3\n",
      "5 * 4\n",
      "5 * 5\n",
      "5 * 6\n",
      "5 * 7\n",
      "5 * 8\n",
      "5 * 9\n",
      "\n",
      "6 단\n",
      "6 * 2\n",
      "6 * 3\n",
      "6 * 4\n",
      "6 * 5\n",
      "6 * 6\n",
      "6 * 7\n",
      "6 * 8\n",
      "6 * 9\n",
      "\n",
      "7 단\n",
      "7 * 2\n",
      "7 * 3\n",
      "7 * 4\n",
      "7 * 5\n",
      "7 * 6\n",
      "7 * 7\n",
      "7 * 8\n",
      "7 * 9\n",
      "\n",
      "8 단\n",
      "8 * 2\n",
      "8 * 3\n",
      "8 * 4\n",
      "8 * 5\n",
      "8 * 6\n",
      "8 * 7\n",
      "8 * 8\n",
      "8 * 9\n",
      "\n",
      "9 단\n",
      "9 * 2\n",
      "9 * 3\n",
      "9 * 4\n",
      "9 * 5\n",
      "9 * 6\n",
      "9 * 7\n",
      "9 * 8\n",
      "9 * 9\n"
     ]
    }
   ],
   "source": [
    "for i in range(2,10):\n",
    "    print('')\n",
    "    print(i,'단')\n",
    "    \n",
    "    for j in range(2,10):\n",
    "        print(i,'*',j)"
   ]
  },
  {
   "cell_type": "code",
   "execution_count": null,
   "metadata": {},
   "outputs": [],
   "source": []
  }
 ],
 "metadata": {
  "kernelspec": {
   "display_name": "Python 3",
   "language": "python",
   "name": "python3"
  },
  "language_info": {
   "codemirror_mode": {
    "name": "ipython",
    "version": 3
   },
   "file_extension": ".py",
   "mimetype": "text/x-python",
   "name": "python",
   "nbconvert_exporter": "python",
   "pygments_lexer": "ipython3",
   "version": "3.6.4"
  }
 },
 "nbformat": 4,
 "nbformat_minor": 2
}

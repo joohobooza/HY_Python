{
 "cells": [
  {
   "cell_type": "markdown",
   "metadata": {},
   "source": [
    "### 문제 1: 리스트 (p173)"
   ]
  },
  {
   "cell_type": "code",
   "execution_count": 10,
   "metadata": {},
   "outputs": [],
   "source": [
    "colors = ['빨강', '노랑', '파랑' , '검정'] #리스트 생성"
   ]
  },
  {
   "cell_type": "code",
   "execution_count": 11,
   "metadata": {},
   "outputs": [
    {
     "data": {
      "text/plain": [
       "'파랑'"
      ]
     },
     "execution_count": 11,
     "metadata": {},
     "output_type": "execute_result"
    }
   ],
   "source": [
    "colors[2] #파랑 호출"
   ]
  },
  {
   "cell_type": "code",
   "execution_count": 12,
   "metadata": {},
   "outputs": [],
   "source": [
    "colors.append('주황') #주황 추가"
   ]
  },
  {
   "cell_type": "code",
   "execution_count": 13,
   "metadata": {},
   "outputs": [
    {
     "data": {
      "text/plain": [
       "['빨강', '노랑', '파랑', '검정', '주황']"
      ]
     },
     "execution_count": 13,
     "metadata": {},
     "output_type": "execute_result"
    }
   ],
   "source": [
    "colors"
   ]
  },
  {
   "cell_type": "code",
   "execution_count": 14,
   "metadata": {},
   "outputs": [],
   "source": [
    "del colors[3] # 검정 삭제"
   ]
  },
  {
   "cell_type": "code",
   "execution_count": 15,
   "metadata": {},
   "outputs": [
    {
     "data": {
      "text/plain": [
       "['빨강', '노랑', '파랑', '주황']"
      ]
     },
     "execution_count": 15,
     "metadata": {},
     "output_type": "execute_result"
    }
   ],
   "source": [
    "colors # 전체 출력"
   ]
  },
  {
   "cell_type": "markdown",
   "metadata": {},
   "source": [
    "### 문제 2: 딕셔너리 (강의자료 class4)"
   ]
  },
  {
   "cell_type": "code",
   "execution_count": 22,
   "metadata": {},
   "outputs": [],
   "source": [
    "gifts = {'대상': '태블릿', '우수상': '10만원', '인기상': '항공권'} #딕셔너리 생성"
   ]
  },
  {
   "cell_type": "code",
   "execution_count": 23,
   "metadata": {},
   "outputs": [
    {
     "data": {
      "text/plain": [
       "'10만원'"
      ]
     },
     "execution_count": 23,
     "metadata": {},
     "output_type": "execute_result"
    }
   ],
   "source": [
    "gifts['우수상'] #우수상의 경품 확인"
   ]
  },
  {
   "cell_type": "code",
   "execution_count": 24,
   "metadata": {},
   "outputs": [],
   "source": [
    "gifts['참가상'] = '사탕' #참가상 추가"
   ]
  },
  {
   "cell_type": "code",
   "execution_count": 25,
   "metadata": {},
   "outputs": [],
   "source": [
    "del gifts['인기상'] #인기상 삭제"
   ]
  },
  {
   "cell_type": "code",
   "execution_count": 26,
   "metadata": {},
   "outputs": [
    {
     "data": {
      "text/plain": [
       "{'대상': '태블릿', '우수상': '10만원', '참가상': '사탕'}"
      ]
     },
     "execution_count": 26,
     "metadata": {},
     "output_type": "execute_result"
    }
   ],
   "source": [
    "gifts #전체 값 확인"
   ]
  },
  {
   "cell_type": "markdown",
   "metadata": {},
   "source": [
    "### 문제3: 합계 구하는 함수 작성 (강의자료 class5)"
   ]
  },
  {
   "cell_type": "code",
   "execution_count": 27,
   "metadata": {},
   "outputs": [],
   "source": [
    "# 합계 구하는 함수 \n",
    "def 합계(시작, 끝):\n",
    "    total = 0\n",
    "    for i in range(시작, 끝+1):\n",
    "        total = total + i \n",
    "    print(total)\n",
    "    return total"
   ]
  },
  {
   "cell_type": "code",
   "execution_count": 28,
   "metadata": {},
   "outputs": [
    {
     "name": "stdout",
     "output_type": "stream",
     "text": [
      "5050\n"
     ]
    },
    {
     "data": {
      "text/plain": [
       "5050"
      ]
     },
     "execution_count": 28,
     "metadata": {},
     "output_type": "execute_result"
    }
   ],
   "source": [
    "합계(1,100)"
   ]
  },
  {
   "cell_type": "code",
   "execution_count": 29,
   "metadata": {},
   "outputs": [
    {
     "name": "stdout",
     "output_type": "stream",
     "text": [
      "2673\n"
     ]
    },
    {
     "data": {
      "text/plain": [
       "2673"
      ]
     },
     "execution_count": 29,
     "metadata": {},
     "output_type": "execute_result"
    }
   ],
   "source": [
    "합계(23,78) "
   ]
  },
  {
   "cell_type": "markdown",
   "metadata": {},
   "source": [
    "### 문제4: 지역변수 전역변수 (p160)"
   ]
  },
  {
   "cell_type": "code",
   "execution_count": 30,
   "metadata": {},
   "outputs": [
    {
     "name": "stdout",
     "output_type": "stream",
     "text": [
      "안녕1 주지훈\n",
      "안녕2 장혁\n",
      "안녕3 공유\n"
     ]
    }
   ],
   "source": [
    "name = '주지훈'\n",
    "print('안녕1', name)\n",
    "def 인사():\n",
    "    name = '장혁'\n",
    "    print('안녕2', name)\n",
    "name = '공유'\n",
    "인사()\n",
    "print('안녕3', name)"
   ]
  },
  {
   "cell_type": "markdown",
   "metadata": {},
   "source": [
    "### 문제5: 함수 작성 (p163)"
   ]
  },
  {
   "cell_type": "code",
   "execution_count": 33,
   "metadata": {},
   "outputs": [
    {
     "name": "stdout",
     "output_type": "stream",
     "text": [
      "가로의 길이는: 2.3\n",
      "세로의 길이는: 3.4\n",
      "직사각형의 넓이는 7.819999999999999 입니다.\n"
     ]
    }
   ],
   "source": [
    "# 직사각형 넓이 구하는 함수\n",
    "def 넓이(가로, 세로):\n",
    "    return 가로 * 세로\n",
    "\n",
    "# 입력받기\n",
    "가로 = float(input('가로의 길이는: '))\n",
    "세로 = float(input('세로의 길이는: '))\n",
    "결과 = 넓이(가로, 세로)\n",
    "print('직사각형의 넓이는', 결과, '입니다.')"
   ]
  },
  {
   "cell_type": "markdown",
   "metadata": {},
   "source": [
    "### 문제6: 원의 넓이 구하기"
   ]
  },
  {
   "cell_type": "code",
   "execution_count": 38,
   "metadata": {},
   "outputs": [
    {
     "name": "stdout",
     "output_type": "stream",
     "text": [
      "[3.141592653589793, 28.274333882308138, 153.93804002589985, 530.929158456675]\n"
     ]
    }
   ],
   "source": [
    "import math\n",
    "\n",
    "def 원의넓이(반지름):\n",
    "    return math.pi * 반지름 **2\n",
    "\n",
    "반지름들 = [1,3,7,13]\n",
    "결과들 = []\n",
    "for i in 반지름들:\n",
    "    결과 = 원의넓이(i)\n",
    "    결과들.append(결과)\n",
    "\n",
    "print(결과들)"
   ]
  },
  {
   "cell_type": "code",
   "execution_count": null,
   "metadata": {},
   "outputs": [],
   "source": []
  }
 ],
 "metadata": {
  "kernelspec": {
   "display_name": "Python 3",
   "language": "python",
   "name": "python3"
  },
  "language_info": {
   "codemirror_mode": {
    "name": "ipython",
    "version": 3
   },
   "file_extension": ".py",
   "mimetype": "text/x-python",
   "name": "python",
   "nbconvert_exporter": "python",
   "pygments_lexer": "ipython3",
   "version": "3.6.4"
  }
 },
 "nbformat": 4,
 "nbformat_minor": 2
}
